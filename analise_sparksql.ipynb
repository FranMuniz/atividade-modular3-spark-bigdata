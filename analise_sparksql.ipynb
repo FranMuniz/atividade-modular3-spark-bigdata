{
 "cells": [
  {
   "cell_type": "code",
   "execution_count": null,
   "metadata": {
    "colab": {
     "base_uri": "https://localhost:8080/"
    },
    "executionInfo": {
     "elapsed": 13014,
     "status": "ok",
     "timestamp": 1750975834329,
     "user": {
      "displayName": "Fran Muniz",
      "userId": "15348179510699193862"
     },
     "user_tz": 180
    },
    "id": "IWrEXGEqSemy",
    "outputId": "bbfe3d21-5a50-45da-d57e-6a432f313fed"
   },
   "outputs": [
    {
     "name": "stdout",
     "output_type": "stream",
     "text": [
      "Requirement already satisfied: pyspark in /usr/local/lib/python3.11/dist-packages (3.5.1)\n",
      "Requirement already satisfied: py4j==0.10.9.7 in /usr/local/lib/python3.11/dist-packages (from pyspark) (0.10.9.7)\n"
     ]
    }
   ],
   "source": [
    "!pip install pyspark"
   ]
  },
  {
   "cell_type": "code",
   "execution_count": null,
   "metadata": {
    "id": "wJnxGcLoSr-8"
   },
   "outputs": [],
   "source": [
    "from pyspark.sql import SparkSession\n",
    "\n",
    "spark = SparkSession.builder \\\n",
    "    .appName(\"Atividade Modular Módulo 3\") \\\n",
    "    .getOrCreate()"
   ]
  },
  {
   "cell_type": "code",
   "execution_count": null,
   "metadata": {
    "colab": {
     "base_uri": "https://localhost:8080/"
    },
    "executionInfo": {
     "elapsed": 22587,
     "status": "ok",
     "timestamp": 1750976791510,
     "user": {
      "displayName": "Fran Muniz",
      "userId": "15348179510699193862"
     },
     "user_tz": 180
    },
    "id": "OTV3IUr2UyoE",
    "outputId": "0a945ccd-3ab2-4c48-9ebc-3df7977e2482"
   },
   "outputs": [
    {
     "name": "stdout",
     "output_type": "stream",
     "text": [
      "Mounted at /content/drive\n"
     ]
    }
   ],
   "source": [
    "from google.colab import drive\n",
    "drive.mount('/content/drive')"
   ]
  },
  {
   "cell_type": "code",
   "execution_count": null,
   "metadata": {
    "colab": {
     "base_uri": "https://localhost:8080/"
    },
    "executionInfo": {
     "elapsed": 113,
     "status": "ok",
     "timestamp": 1750976828682,
     "user": {
      "displayName": "Fran Muniz",
      "userId": "15348179510699193862"
     },
     "user_tz": 180
    },
    "id": "91BWFc2QWZev",
    "outputId": "2e9ee080-ab3c-4215-bbdd-e53e1ffdac2e"
   },
   "outputs": [
    {
     "name": "stdout",
     "output_type": "stream",
     "text": [
      "atividade_modular_3.ipynb  estabelecimentos-2.csv\n",
      "cnaes.csv\t\t   estabelecimentos-3.csv\n",
      "estabelecimentos-1.csv\t   NOVOLAYOUTDOSDADOSABERTOSDOCNPJ.pdf\n"
     ]
    }
   ],
   "source": [
    "!ls \"/content/drive/MyDrive/Colab Notebooks\""
   ]
  },
  {
   "cell_type": "code",
   "execution_count": null,
   "metadata": {
    "id": "SLuuiMNKWn2I"
   },
   "outputs": [],
   "source": [
    "# Path\n",
    "base_path = \"/content/drive/MyDrive/Colab Notebooks\"\n",
    "\n",
    "# Lê os três arquivos de estabelecimentos\n",
    "df1 = spark.read.option(\"header\", True).option(\"inferSchema\", True).option(\"sep\", \";\").csv(f\"{base_path}/estabelecimentos-1.csv\")\n",
    "df2 = spark.read.option(\"header\", True).option(\"inferSchema\", True).option(\"sep\", \";\").csv(f\"{base_path}/estabelecimentos-2.csv\")\n",
    "df3 = spark.read.option(\"header\", True).option(\"inferSchema\", True).option(\"sep\", \";\").csv(f\"{base_path}/estabelecimentos-3.csv\")\n",
    "\n",
    "# Une os três arquivos em um único df\n",
    "df_estabelecimentos = df1.unionByName(df2).unionByName(df3)\n",
    "\n",
    "# Lê o arquivo de CNAEs\n",
    "df_cnaes = spark.read.option(\"header\", True).option(\"inferSchema\", True).option(\"sep\", \";\").csv(f\"{base_path}/cnaes.csv\")\n",
    "\n"
   ]
  },
  {
   "cell_type": "code",
   "execution_count": null,
   "metadata": {
    "id": "wnfDDllKW35x"
   },
   "outputs": [],
   "source": [
    "# Cria as views\n",
    "df_estabelecimentos.createOrReplaceTempView(\"estabelecimentos\")\n",
    "df_cnaes.createOrReplaceTempView(\"cnaes\")"
   ]
  },
  {
   "cell_type": "code",
   "execution_count": null,
   "metadata": {
    "colab": {
     "base_uri": "https://localhost:8080/"
    },
    "executionInfo": {
     "elapsed": 1251,
     "status": "ok",
     "timestamp": 1750977926759,
     "user": {
      "displayName": "Fran Muniz",
      "userId": "15348179510699193862"
     },
     "user_tz": 180
    },
    "id": "Q8wS5fQVXb2M",
    "outputId": "8fdd3938-7944-4a1e-c9a7-7fa7bd56466c"
   },
   "outputs": [
    {
     "name": "stdout",
     "output_type": "stream",
     "text": [
      "+-----------+----------+-------+---------------------------+-------------+------------------+-----------------------+-------------------------+--------------------------+----+---------------------+--------------+---------------+---------------+-----------------+------+--------------------+---------+--------+---+---------+-----+--------+-----+--------+-------+--------+--------------------+-----------------+----------------------+\n",
      "|CNPJ_BASICO|CNPJ_ORDEM|CNPJ_DV|IDENTIFICADOR_MATRIZ_FILIAL|NOME_FANTASIA|SITUACAO_CADASTRAL|DATA_SITUACAO_CADASTRAL|MOTIVO_SITUACAO_CADASTRAL|NOME_DA_CIDADE_NO_EXTERIOR|PAIS|DATA_INICIO_ATIVIDADE|CNAE_PRINCIPAL|CNAE_SECUNDARIA|TIPO_LOGRADOURO|       LOGRADOURO|NUMERO|         COMPLEMENTO|   BAIRRO|     CEP| UF|MUNICIPIO|DDD_1|   TEL_1|DDD_2|   TEL_2|DDD_FAX|     FAX|  CORREIO_ELETRONICO|SITUACAO_ESPECIAL|DATA_SITUACAO_ESPECIAL|\n",
      "+-----------+----------+-------+---------------------------+-------------+------------------+-----------------------+-------------------------+--------------------------+----+---------------------+--------------+---------------+---------------+-----------------+------+--------------------+---------+--------+---+---------+-----+--------+-----+--------+-------+--------+--------------------+-----------------+----------------------+\n",
      "|    7396865|         1|     68|                          1|         NULL|                 8|               20170210|                        1|                      NULL|NULL|             20050518|       1412602|        1411801|            RUA|        TUCANEIRA|    30|                NULL|DOS LAGOS|89136000| SC|     8297|   47|33851125|   47|33851125|   47.0|33851125|                NULL|             NULL|                  NULL|\n",
      "|   64904295|        18|     51|                          2|         NULL|                 8|               20161110|                        1|                      NULL|NULL|             20050429|       4639701|        4637199|        AVENIDA|   MENINO MARCELO| 8551B|LOTE  2          ...| SERRARIA|57046000| AL|     2785|   11|36491000|   31|33880436|   82.0|33118379|CLAUDIO.GIGLIO@CA...|             NULL|                  NULL|\n",
      "|   76016369|         3|     16|                          2|         NULL|                 3|               20060203|                       21|                      NULL|NULL|             19851212|       4632001|           NULL|            RUA|      DO COMERCIO|    55|      SALA 7 GALERIA|   CENTRO|11010141| SP|     7071| NULL|    NULL| NULL|    NULL|   NULL|    NULL|                NULL|             NULL|                  NULL|\n",
      "|   52302726|         1|     82|                          1|         NULL|                 4|               20210406|                       63|                      NULL|NULL|             19830223|       4712100|           NULL|            RUA|GREGORIO LUCHIARI|   496|                NULL| SAO VITO|13472080| SP|     6131| NULL|    NULL| NULL|    NULL|   NULL|    NULL|                NULL|             NULL|                  NULL|\n",
      "|    7396923|         1|     53|                          1|         NULL|                 8|               20140115|                        1|                      NULL|NULL|             20050516|       4721102|           NULL|            RUA|         DA MOOCA|  3336|                NULL|    MOOCA| 3165000| SP|     7107|  011|69658088| NULL|    NULL|   NULL|    NULL|                NULL|             NULL|                  NULL|\n",
      "+-----------+----------+-------+---------------------------+-------------+------------------+-----------------------+-------------------------+--------------------------+----+---------------------+--------------+---------------+---------------+-----------------+------+--------------------+---------+--------+---+---------+-----+--------+-----+--------+-------+--------+--------------------+-----------------+----------------------+\n",
      "\n",
      "+------+--------------------+\n",
      "|  CNAE|      DESCRICAO_CNAE|\n",
      "+------+--------------------+\n",
      "|111301|    Cultivo de arroz|\n",
      "|111302|    Cultivo de milho|\n",
      "|111303|    Cultivo de trigo|\n",
      "|111399|Cultivo de outros...|\n",
      "|112101|Cultivo de algod�...|\n",
      "+------+--------------------+\n",
      "\n"
     ]
    }
   ],
   "source": [
    "# Teste para verificar os dados\n",
    "spark.sql(\"SELECT * FROM estabelecimentos LIMIT 5\").show()\n",
    "spark.sql(\"SELECT * FROM cnaes LIMIT 5\").show()"
   ]
  },
  {
   "cell_type": "code",
   "execution_count": null,
   "metadata": {
    "colab": {
     "base_uri": "https://localhost:8080/"
    },
    "executionInfo": {
     "elapsed": 25142,
     "status": "ok",
     "timestamp": 1750977957116,
     "user": {
      "displayName": "Fran Muniz",
      "userId": "15348179510699193862"
     },
     "user_tz": 180
    },
    "id": "pjndVD1sYKZc",
    "outputId": "a6764246-279c-4296-c631-0d379b093394"
   },
   "outputs": [
    {
     "name": "stdout",
     "output_type": "stream",
     "text": [
      "+--------+\n",
      "|   total|\n",
      "+--------+\n",
      "|20996744|\n",
      "+--------+\n",
      "\n"
     ]
    }
   ],
   "source": [
    "# 1 - Quantos estabelecimentos existem?\n",
    "total_estabelecimentos = spark.sql(\"SELECT COUNT(*) AS total FROM estabelecimentos\")\n",
    "total_estabelecimentos.show()\n"
   ]
  },
  {
   "cell_type": "code",
   "execution_count": null,
   "metadata": {
    "colab": {
     "base_uri": "https://localhost:8080/"
    },
    "executionInfo": {
     "elapsed": 15,
     "status": "ok",
     "timestamp": 1750980850757,
     "user": {
      "displayName": "Fran Muniz",
      "userId": "15348179510699193862"
     },
     "user_tz": 180
    },
    "id": "mi0N-6BOYWHd",
    "outputId": "a1b40f75-6adc-4aeb-b0c2-107fd834c87e"
   },
   "outputs": [
    {
     "name": "stdout",
     "output_type": "stream",
     "text": [
      "root\n",
      " |-- CNPJ_BASICO: integer (nullable = true)\n",
      " |-- CNPJ_ORDEM: integer (nullable = true)\n",
      " |-- CNPJ_DV: integer (nullable = true)\n",
      " |-- IDENTIFICADOR_MATRIZ_FILIAL: integer (nullable = true)\n",
      " |-- NOME_FANTASIA: string (nullable = true)\n",
      " |-- SITUACAO_CADASTRAL: integer (nullable = true)\n",
      " |-- DATA_SITUACAO_CADASTRAL: integer (nullable = true)\n",
      " |-- MOTIVO_SITUACAO_CADASTRAL: integer (nullable = true)\n",
      " |-- NOME_DA_CIDADE_NO_EXTERIOR: string (nullable = true)\n",
      " |-- PAIS: integer (nullable = true)\n",
      " |-- DATA_INICIO_ATIVIDADE: integer (nullable = true)\n",
      " |-- CNAE_PRINCIPAL: integer (nullable = true)\n",
      " |-- CNAE_SECUNDARIA: string (nullable = true)\n",
      " |-- TIPO_LOGRADOURO: string (nullable = true)\n",
      " |-- LOGRADOURO: string (nullable = true)\n",
      " |-- NUMERO: string (nullable = true)\n",
      " |-- COMPLEMENTO: string (nullable = true)\n",
      " |-- BAIRRO: string (nullable = true)\n",
      " |-- CEP: string (nullable = true)\n",
      " |-- UF: string (nullable = true)\n",
      " |-- MUNICIPIO: integer (nullable = true)\n",
      " |-- DDD_1: string (nullable = true)\n",
      " |-- TEL_1: string (nullable = true)\n",
      " |-- DDD_2: string (nullable = true)\n",
      " |-- TEL_2: string (nullable = true)\n",
      " |-- DDD_FAX: double (nullable = true)\n",
      " |-- FAX: string (nullable = true)\n",
      " |-- CORREIO_ELETRONICO: string (nullable = true)\n",
      " |-- SITUACAO_ESPECIAL: string (nullable = true)\n",
      " |-- DATA_SITUACAO_ESPECIAL: integer (nullable = true)\n",
      " |-- is_avenida: boolean (nullable = true)\n",
      "\n"
     ]
    }
   ],
   "source": [
    "# 2 - Quantas colunas existem e quantas são identificadas como numéricas?\n",
    "\n",
    "df_estabelecimentos.printSchema()\n"
   ]
  },
  {
   "cell_type": "code",
   "execution_count": null,
   "metadata": {
    "colab": {
     "base_uri": "https://localhost:8080/"
    },
    "executionInfo": {
     "elapsed": 284284,
     "status": "ok",
     "timestamp": 1750978348193,
     "user": {
      "displayName": "Fran Muniz",
      "userId": "15348179510699193862"
     },
     "user_tz": 180
    },
    "id": "2eri9-NlYsBF",
    "outputId": "99d3815e-d05d-4f74-9a25-6515b2daec8c"
   },
   "outputs": [
    {
     "name": "stdout",
     "output_type": "stream",
     "text": [
      "1.5G\testabelecimentos.parquet\n",
      "836M\t/content/drive/MyDrive/Colab Notebooks/estabelecimentos-1.csv\n",
      "2.1G\t/content/drive/MyDrive/Colab Notebooks/estabelecimentos-2.csv\n",
      "845M\t/content/drive/MyDrive/Colab Notebooks/estabelecimentos-3.csv\n"
     ]
    }
   ],
   "source": [
    "# 3 - Comparar tamanho do arquivo Parquet com o CSV original\n",
    "\n",
    "df_estabelecimentos.write.mode(\"overwrite\").parquet(\"estabelecimentos.parquet\")\n",
    "\n",
    "!du -sh estabelecimentos.parquet\n",
    "!du -sh \"/content/drive/MyDrive/Colab Notebooks/estabelecimentos-1.csv\" \"/content/drive/MyDrive/Colab Notebooks/estabelecimentos-2.csv\" \"/content/drive/MyDrive/Colab Notebooks/estabelecimentos-3.csv\"\n",
    "\n"
   ]
  },
  {
   "cell_type": "code",
   "execution_count": null,
   "metadata": {
    "colab": {
     "base_uri": "https://localhost:8080/"
    },
    "executionInfo": {
     "elapsed": 67357,
     "status": "ok",
     "timestamp": 1750979058742,
     "user": {
      "displayName": "Fran Muniz",
      "userId": "15348179510699193862"
     },
     "user_tz": 180
    },
    "id": "j_tHN-hAerxP",
    "outputId": "ac9b3e83-883e-4c31-9a7b-b6361b698a25"
   },
   "outputs": [
    {
     "name": "stdout",
     "output_type": "stream",
     "text": [
      "+--------------------+\n",
      "|total_sem_logradouro|\n",
      "+--------------------+\n",
      "|                 828|\n",
      "+--------------------+\n",
      "\n"
     ]
    }
   ],
   "source": [
    "# 4 - Quantos estabelecimentos não têm logradouro cadastrado?\n",
    "spark.sql(\"SELECT COUNT(*) AS total_sem_logradouro FROM estabelecimentos WHERE LOGRADOURO IS NULL OR LOGRADOURO = ''\").show()\n"
   ]
  },
  {
   "cell_type": "code",
   "execution_count": null,
   "metadata": {
    "colab": {
     "base_uri": "https://localhost:8080/"
    },
    "executionInfo": {
     "elapsed": 154382,
     "status": "ok",
     "timestamp": 1750979704288,
     "user": {
      "displayName": "Fran Muniz",
      "userId": "15348179510699193862"
     },
     "user_tz": 180
    },
    "id": "NNlfy1-XgyEc",
    "outputId": "6e356e39-7049-449b-a072-bf3ddf68710a"
   },
   "outputs": [
    {
     "name": "stdout",
     "output_type": "stream",
     "text": [
      "+-------------+\n",
      "|total_avenida|\n",
      "+-------------+\n",
      "|        52587|\n",
      "+-------------+\n",
      "\n"
     ]
    }
   ],
   "source": [
    "# 5 - Quantos estabelecimentos têm logradouro começando com \"AVENIDA\"?\n",
    "from pyspark.sql.functions import udf\n",
    "from pyspark.sql.types import BooleanType\n",
    "\n",
    "def is_avenida(logradouro):\n",
    "    if logradouro is None:\n",
    "        return False\n",
    "    return logradouro.strip().upper().startswith(\"AVENIDA\")\n",
    "\n",
    "is_avenida_udf = udf(is_avenida, BooleanType())\n",
    "\n",
    "df_estabelecimentos = df_estabelecimentos.withColumn(\"is_avenida\", is_avenida_udf(\"LOGRADOURO\"))\n",
    "df_estabelecimentos.createOrReplaceTempView(\"estabelecimentos\")\n",
    "\n",
    "spark.sql(\"SELECT COUNT(*) AS total_avenida FROM estabelecimentos WHERE is_avenida = true\").show()\n"
   ]
  },
  {
   "cell_type": "code",
   "execution_count": null,
   "metadata": {
    "colab": {
     "base_uri": "https://localhost:8080/"
    },
    "executionInfo": {
     "elapsed": 108883,
     "status": "ok",
     "timestamp": 1750981733483,
     "user": {
      "displayName": "Fran Muniz",
      "userId": "15348179510699193862"
     },
     "user_tz": 180
    },
    "id": "wWCdEqoLg8rh",
    "outputId": "ad0d5472-f16e-4d2e-b23a-76ae90ca0d55"
   },
   "outputs": [
    {
     "name": "stdout",
     "output_type": "stream",
     "text": [
      "+--------------+\n",
      "|ceps_distintos|\n",
      "+--------------+\n",
      "|        871523|\n",
      "+--------------+\n",
      "\n"
     ]
    }
   ],
   "source": [
    "# 6 - Quantos CEPs distintos existem?\n",
    "from pyspark.sql.functions import col\n",
    "\n",
    "# Cria um nova view filtrando apenas CEPs de 8 dígitos\n",
    "df_ceps_validos = df_estabelecimentos.filter(\n",
    "    (col(\"CEP\").isNotNull()) & (col(\"CEP\").rlike(\"^[0-9]{8}$\"))\n",
    ")\n",
    "\n",
    "df_ceps_validos.createOrReplaceTempView(\"ceps_validos\")\n",
    "\n",
    "# Conta os distintos\n",
    "spark.sql(\"SELECT COUNT(DISTINCT CEP) AS ceps_distintos FROM ceps_validos\").show()\n",
    "\n",
    "\n"
   ]
  },
  {
   "cell_type": "code",
   "execution_count": null,
   "metadata": {
    "colab": {
     "base_uri": "https://localhost:8080/"
    },
    "executionInfo": {
     "elapsed": 741,
     "status": "ok",
     "timestamp": 1750980089302,
     "user": {
      "displayName": "Fran Muniz",
      "userId": "15348179510699193862"
     },
     "user_tz": 180
    },
    "id": "NntfGQC0iToI",
    "outputId": "dfe29b60-8d8e-4785-d060-6326dab20276"
   },
   "outputs": [
    {
     "name": "stdout",
     "output_type": "stream",
     "text": [
      "+-----------+\n",
      "|total_cnaes|\n",
      "+-----------+\n",
      "|       1359|\n",
      "+-----------+\n",
      "\n"
     ]
    }
   ],
   "source": [
    "# 7 - Quantos CNAEs existem na tabela de CNAEs?\n",
    "spark.sql(\"SELECT COUNT(DISTINCT CNAE) AS total_cnaes FROM cnaes\").show()\n"
   ]
  },
  {
   "cell_type": "code",
   "execution_count": null,
   "metadata": {
    "colab": {
     "base_uri": "https://localhost:8080/"
    },
    "executionInfo": {
     "elapsed": 76486,
     "status": "ok",
     "timestamp": 1750980526441,
     "user": {
      "displayName": "Fran Muniz",
      "userId": "15348179510699193862"
     },
     "user_tz": 180
    },
    "id": "-wJbLyiQhCeB",
    "outputId": "8e36e6b1-0248-48ca-9fd7-1c0b90ae8208"
   },
   "outputs": [
    {
     "name": "stdout",
     "output_type": "stream",
     "text": [
      "+-------------+\n",
      "|total_cultivo|\n",
      "+-------------+\n",
      "|       223500|\n",
      "+-------------+\n",
      "\n"
     ]
    }
   ],
   "source": [
    "# 8 - Quantos estabelecimentos têm CNAE relacionado a cultivo?\n",
    "from pyspark.sql.functions import udf\n",
    "from pyspark.sql.types import BooleanType\n",
    "\n",
    "# UDF para identificar CNAEs de cultivo\n",
    "def is_cnae_cultivo(descricao):\n",
    "    if descricao is None:\n",
    "        return False\n",
    "    return \"cultivo\" in descricao.lower()\n",
    "\n",
    "is_cnae_cultivo_udf = udf(is_cnae_cultivo, BooleanType())\n",
    "\n",
    "# Faz o join entre estabelecimentos e cnaes usando as colunas corretas\n",
    "df_est_cnae = df_estabelecimentos.join(\n",
    "    df_cnaes,\n",
    "    df_estabelecimentos[\"CNAE_PRINCIPAL\"] == df_cnaes[\"CNAE\"],\n",
    "    \"inner\"\n",
    ")\n",
    "\n",
    "# Adiciona coluna booleana is_cultivo\n",
    "df_est_cnae = df_est_cnae.withColumn(\"is_cultivo\", is_cnae_cultivo_udf(\"DESCRICAO_CNAE\"))\n",
    "\n",
    "# Cria uma view temporária\n",
    "df_est_cnae.createOrReplaceTempView(\"estabelecimentos_with_cnae\")\n",
    "\n",
    "# Consulta SQL para contar quantos têm CNAE de cultivo\n",
    "spark.sql(\"\"\"\n",
    "    SELECT COUNT(*) AS total_cultivo\n",
    "    FROM estabelecimentos_with_cnae\n",
    "    WHERE is_cultivo = true\n",
    "\"\"\").show()\n",
    "\n"
   ]
  },
  {
   "cell_type": "code",
   "execution_count": null,
   "metadata": {
    "colab": {
     "base_uri": "https://localhost:8080/"
    },
    "executionInfo": {
     "elapsed": 74277,
     "status": "ok",
     "timestamp": 1750980294189,
     "user": {
      "displayName": "Fran Muniz",
      "userId": "15348179510699193862"
     },
     "user_tz": 180
    },
    "id": "UxKvc-TPjGPJ",
    "outputId": "6fa3a4ed-4f28-45aa-f965-7446f79a49d4"
   },
   "outputs": [
    {
     "name": "stdout",
     "output_type": "stream",
     "text": [
      "+-------------+\n",
      "|total_filiais|\n",
      "+-------------+\n",
      "|      1093082|\n",
      "+-------------+\n",
      "\n"
     ]
    }
   ],
   "source": [
    "# 9 - Quantos estabelecimentos são filiais?\n",
    "spark.sql(\"\"\"\n",
    "    SELECT COUNT(*) AS total_filiais\n",
    "    FROM estabelecimentos\n",
    "    WHERE IDENTIFICADOR_MATRIZ_FILIAL = 2\n",
    "\"\"\").show()\n",
    "\n"
   ]
  }
 ],
 "metadata": {
  "colab": {
   "authorship_tag": "ABX9TyOdpz2BtkJWLmK8HDkyH2Xv",
   "provenance": [],
   "toc_visible": true
  },
  "kernelspec": {
   "display_name": "Python 3",
   "name": "python3"
  },
  "language_info": {
   "name": "python"
  }
 },
 "nbformat": 4,
 "nbformat_minor": 0
}
